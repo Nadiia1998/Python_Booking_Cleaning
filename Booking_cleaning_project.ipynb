{
 "cells": [
  {
   "cell_type": "code",
   "execution_count": 1,
   "id": "8628c979-fb5a-45df-84c1-e75c0576222d",
   "metadata": {},
   "outputs": [],
   "source": [
    "import pandas as pd\n",
    "import numpy as np"
   ]
  },
  {
   "cell_type": "markdown",
   "id": "1c1758f8-d148-4a71-bcb2-bc86abf3c213",
   "metadata": {},
   "source": [
    "Create DataFrame"
   ]
  },
  {
   "cell_type": "code",
   "execution_count": 79,
   "id": "c348cc41-c378-44bc-a640-31e970034201",
   "metadata": {},
   "outputs": [
    {
     "data": {
      "text/html": [
       "<div>\n",
       "<style scoped>\n",
       "    .dataframe tbody tr th:only-of-type {\n",
       "        vertical-align: middle;\n",
       "    }\n",
       "\n",
       "    .dataframe tbody tr th {\n",
       "        vertical-align: top;\n",
       "    }\n",
       "\n",
       "    .dataframe thead th {\n",
       "        text-align: right;\n",
       "    }\n",
       "</style>\n",
       "<table border=\"1\" class=\"dataframe\">\n",
       "  <thead>\n",
       "    <tr style=\"text-align: right;\">\n",
       "      <th></th>\n",
       "      <th>booking_id</th>\n",
       "      <th>guest_name</th>\n",
       "      <th>email</th>\n",
       "      <th>listing_id</th>\n",
       "      <th>listing_city</th>\n",
       "      <th>checkin_date</th>\n",
       "      <th>checkout_date</th>\n",
       "      <th>nights</th>\n",
       "      <th>price_per_night</th>\n",
       "      <th>total_price</th>\n",
       "      <th>payment_status</th>\n",
       "      <th>review_score</th>\n",
       "      <th>is_cancelled</th>\n",
       "    </tr>\n",
       "  </thead>\n",
       "  <tbody>\n",
       "    <tr>\n",
       "      <th>0</th>\n",
       "      <td>BKG-013035</td>\n",
       "      <td>NaN</td>\n",
       "      <td>nhoffman@scott.com</td>\n",
       "      <td>1083</td>\n",
       "      <td>Los Angeles</td>\n",
       "      <td>2023-05-24</td>\n",
       "      <td>2023-12-12</td>\n",
       "      <td>-1</td>\n",
       "      <td>245.61</td>\n",
       "      <td>-245.61</td>\n",
       "      <td>pending</td>\n",
       "      <td>6.0</td>\n",
       "      <td>False</td>\n",
       "    </tr>\n",
       "    <tr>\n",
       "      <th>1</th>\n",
       "      <td>BKG-003115</td>\n",
       "      <td>CAROLYN SHAH</td>\n",
       "      <td>achan@olson-nelson.com</td>\n",
       "      <td>1079</td>\n",
       "      <td>los angeles</td>\n",
       "      <td>2024-08-19</td>\n",
       "      <td>2024-11-08</td>\n",
       "      <td>81</td>\n",
       "      <td>51.96</td>\n",
       "      <td>4208.76</td>\n",
       "      <td>NaN</td>\n",
       "      <td>6.0</td>\n",
       "      <td>Yes</td>\n",
       "    </tr>\n",
       "    <tr>\n",
       "      <th>2</th>\n",
       "      <td>BKG-008732</td>\n",
       "      <td>Jermaine Huang</td>\n",
       "      <td>thomasadam@yahoo.com</td>\n",
       "      <td>1036</td>\n",
       "      <td>San Fran</td>\n",
       "      <td>2024-03-20</td>\n",
       "      <td>2025-03-03</td>\n",
       "      <td>348</td>\n",
       "      <td>383.63</td>\n",
       "      <td>133503.24</td>\n",
       "      <td>paid</td>\n",
       "      <td>1.0</td>\n",
       "      <td>FALSE</td>\n",
       "    </tr>\n",
       "    <tr>\n",
       "      <th>3</th>\n",
       "      <td>BKG-007591</td>\n",
       "      <td>amy rios</td>\n",
       "      <td>reginald31@robertson-smith.com</td>\n",
       "      <td>1025</td>\n",
       "      <td>LA</td>\n",
       "      <td>2024-02-29</td>\n",
       "      <td>2025-03-16</td>\n",
       "      <td>381</td>\n",
       "      <td>268.36</td>\n",
       "      <td>102245.16</td>\n",
       "      <td>pending</td>\n",
       "      <td>6.0</td>\n",
       "      <td>n</td>\n",
       "    </tr>\n",
       "    <tr>\n",
       "      <th>4</th>\n",
       "      <td>BKG-000221</td>\n",
       "      <td>NaN</td>\n",
       "      <td>NaN</td>\n",
       "      <td>1089</td>\n",
       "      <td>LA</td>\n",
       "      <td>2025-01-26</td>\n",
       "      <td>2025-02-22</td>\n",
       "      <td>27</td>\n",
       "      <td>134.71</td>\n",
       "      <td>3637.17</td>\n",
       "      <td>PENDING</td>\n",
       "      <td>NaN</td>\n",
       "      <td>TRUE</td>\n",
       "    </tr>\n",
       "  </tbody>\n",
       "</table>\n",
       "</div>"
      ],
      "text/plain": [
       "   booking_id          guest_name                           email  listing_id  \\\n",
       "0  BKG-013035                 NaN              nhoffman@scott.com        1083   \n",
       "1  BKG-003115        CAROLYN SHAH          achan@olson-nelson.com        1079   \n",
       "2  BKG-008732    Jermaine Huang              thomasadam@yahoo.com        1036   \n",
       "3  BKG-007591            amy rios  reginald31@robertson-smith.com        1025   \n",
       "4  BKG-000221                 NaN                             NaN        1089   \n",
       "\n",
       "  listing_city checkin_date checkout_date nights price_per_night total_price  \\\n",
       "0  Los Angeles   2023-05-24    2023-12-12     -1          245.61     -245.61   \n",
       "1  los angeles   2024-08-19    2024-11-08     81           51.96     4208.76   \n",
       "2     San Fran   2024-03-20    2025-03-03    348          383.63   133503.24   \n",
       "3           LA   2024-02-29    2025-03-16    381          268.36   102245.16   \n",
       "4           LA   2025-01-26    2025-02-22     27          134.71     3637.17   \n",
       "\n",
       "  payment_status  review_score is_cancelled  \n",
       "0        pending           6.0        False  \n",
       "1            NaN           6.0          Yes  \n",
       "2           paid           1.0        FALSE  \n",
       "3        pending           6.0            n  \n",
       "4        PENDING           NaN         TRUE  "
      ]
     },
     "execution_count": 79,
     "metadata": {},
     "output_type": "execute_result"
    }
   ],
   "source": [
    "df1=pd.read_csv(r\"C:\\Users\\HP\\Downloads\\verbo_data.csv\")\n",
    "df=df1.copy()\n",
    "df.head()"
   ]
  },
  {
   "cell_type": "code",
   "execution_count": 81,
   "id": "d8b6b608-c074-4006-a125-a3adfa86c7f2",
   "metadata": {},
   "outputs": [
    {
     "name": "stdout",
     "output_type": "stream",
     "text": [
      "<class 'pandas.core.frame.DataFrame'>\n",
      "RangeIndex: 22000 entries, 0 to 21999\n",
      "Data columns (total 13 columns):\n",
      " #   Column           Non-Null Count  Dtype  \n",
      "---  ------           --------------  -----  \n",
      " 0   booking_id       22000 non-null  object \n",
      " 1   guest_name       17635 non-null  object \n",
      " 2   email            20889 non-null  object \n",
      " 3   listing_id       22000 non-null  int64  \n",
      " 4   listing_city     22000 non-null  object \n",
      " 5   checkin_date     22000 non-null  object \n",
      " 6   checkout_date    22000 non-null  object \n",
      " 7   nights           21663 non-null  object \n",
      " 8   price_per_night  21530 non-null  object \n",
      " 9   total_price      22000 non-null  object \n",
      " 10  payment_status   15631 non-null  object \n",
      " 11  review_score     13199 non-null  float64\n",
      " 12  is_cancelled     22000 non-null  object \n",
      "dtypes: float64(1), int64(1), object(11)\n",
      "memory usage: 2.2+ MB\n"
     ]
    }
   ],
   "source": [
    "# Check data types and missing values\n",
    "df.info()"
   ]
  },
  {
   "cell_type": "code",
   "execution_count": 83,
   "id": "bc4b0f5a-3d2b-49a3-b81c-acf6731118ff",
   "metadata": {},
   "outputs": [
    {
     "data": {
      "text/html": [
       "<div>\n",
       "<style scoped>\n",
       "    .dataframe tbody tr th:only-of-type {\n",
       "        vertical-align: middle;\n",
       "    }\n",
       "\n",
       "    .dataframe tbody tr th {\n",
       "        vertical-align: top;\n",
       "    }\n",
       "\n",
       "    .dataframe thead th {\n",
       "        text-align: right;\n",
       "    }\n",
       "</style>\n",
       "<table border=\"1\" class=\"dataframe\">\n",
       "  <thead>\n",
       "    <tr style=\"text-align: right;\">\n",
       "      <th></th>\n",
       "      <th>listing_id</th>\n",
       "      <th>review_score</th>\n",
       "    </tr>\n",
       "  </thead>\n",
       "  <tbody>\n",
       "    <tr>\n",
       "      <th>count</th>\n",
       "      <td>22000.000000</td>\n",
       "      <td>13199.000000</td>\n",
       "    </tr>\n",
       "    <tr>\n",
       "      <th>mean</th>\n",
       "      <td>1050.147818</td>\n",
       "      <td>2.693386</td>\n",
       "    </tr>\n",
       "    <tr>\n",
       "      <th>std</th>\n",
       "      <td>29.077741</td>\n",
       "      <td>2.979576</td>\n",
       "    </tr>\n",
       "    <tr>\n",
       "      <th>min</th>\n",
       "      <td>1000.000000</td>\n",
       "      <td>-1.000000</td>\n",
       "    </tr>\n",
       "    <tr>\n",
       "      <th>25%</th>\n",
       "      <td>1025.000000</td>\n",
       "      <td>-1.000000</td>\n",
       "    </tr>\n",
       "    <tr>\n",
       "      <th>50%</th>\n",
       "      <td>1050.000000</td>\n",
       "      <td>3.000000</td>\n",
       "    </tr>\n",
       "    <tr>\n",
       "      <th>75%</th>\n",
       "      <td>1075.000000</td>\n",
       "      <td>6.000000</td>\n",
       "    </tr>\n",
       "    <tr>\n",
       "      <th>max</th>\n",
       "      <td>1100.000000</td>\n",
       "      <td>6.000000</td>\n",
       "    </tr>\n",
       "  </tbody>\n",
       "</table>\n",
       "</div>"
      ],
      "text/plain": [
       "         listing_id  review_score\n",
       "count  22000.000000  13199.000000\n",
       "mean    1050.147818      2.693386\n",
       "std       29.077741      2.979576\n",
       "min     1000.000000     -1.000000\n",
       "25%     1025.000000     -1.000000\n",
       "50%     1050.000000      3.000000\n",
       "75%     1075.000000      6.000000\n",
       "max     1100.000000      6.000000"
      ]
     },
     "execution_count": 83,
     "metadata": {},
     "output_type": "execute_result"
    }
   ],
   "source": [
    "#short summary statystics\n",
    "df.describe()"
   ]
  },
  {
   "cell_type": "code",
   "execution_count": 85,
   "id": "72555045-6b16-4499-8d35-e1cf8a95be88",
   "metadata": {},
   "outputs": [
    {
     "name": "stdout",
     "output_type": "stream",
     "text": [
      "Data Frame contain 2000 duplicates\n"
     ]
    }
   ],
   "source": [
    "# delete duplicates\n",
    "print(f'Data Frame contain {df.duplicated().sum()} duplicates')\n",
    "\n",
    "df=df.drop_duplicates()"
   ]
  },
  {
   "cell_type": "code",
   "execution_count": 87,
   "id": "8bff94e8-15ca-4f63-9877-ae7bb04445c9",
   "metadata": {},
   "outputs": [
    {
     "name": "stdout",
     "output_type": "stream",
     "text": [
      "<class 'pandas.core.frame.DataFrame'>\n",
      "Index: 20000 entries, 0 to 21999\n",
      "Data columns (total 13 columns):\n",
      " #   Column           Non-Null Count  Dtype  \n",
      "---  ------           --------------  -----  \n",
      " 0   booking_id       20000 non-null  object \n",
      " 1   guest_name       16033 non-null  object \n",
      " 2   email            18984 non-null  object \n",
      " 3   listing_id       20000 non-null  int64  \n",
      " 4   listing_city     20000 non-null  object \n",
      " 5   checkin_date     20000 non-null  object \n",
      " 6   checkout_date    20000 non-null  object \n",
      " 7   nights           19692 non-null  object \n",
      " 8   price_per_night  19575 non-null  object \n",
      " 9   total_price      20000 non-null  object \n",
      " 10  payment_status   14208 non-null  object \n",
      " 11  review_score     11962 non-null  float64\n",
      " 12  is_cancelled     20000 non-null  object \n",
      "dtypes: float64(1), int64(1), object(11)\n",
      "memory usage: 2.1+ MB\n"
     ]
    }
   ],
   "source": [
    "# Check data types and missing valuesd again\n",
    "df.info()"
   ]
  },
  {
   "cell_type": "code",
   "execution_count": 89,
   "id": "6f6b8245-49e0-4b33-8b2c-549c637fca22",
   "metadata": {},
   "outputs": [],
   "source": [
    "# Change 'guest_name' colunm: delete unnecessary spase and change value to title  text\n",
    "df['guest_name']=df['guest_name'].str.strip().str.title()\n",
    "df['guest_name']=df['guest_name'].fillna('Unknown')"
   ]
  },
  {
   "cell_type": "code",
   "execution_count": 91,
   "id": "5ff4b69b-0ed4-4a42-9b66-949b3120a32f",
   "metadata": {},
   "outputs": [],
   "source": [
    "# Chane 'email' column: elete unnecessary spase\n",
    "df['email']=df['email'].str.strip().fillna('Unknown')"
   ]
  },
  {
   "cell_type": "code",
   "execution_count": 93,
   "id": "0f59075d-dd1e-4b0f-adf0-e5c6a46c2a42",
   "metadata": {},
   "outputs": [
    {
     "data": {
      "text/plain": [
       "array(['Los Angeles', 'los angeles', 'San Fran', 'LA', 'new york',\n",
       "       'San Francisco', 'SF', 'nyc', 'NYC', 'New York'], dtype=object)"
      ]
     },
     "execution_count": 93,
     "metadata": {},
     "output_type": "execute_result"
    }
   ],
   "source": [
    "# Check unique number of 'listing_city' column \n",
    "df['listing_city'].unique()"
   ]
  },
  {
   "cell_type": "code",
   "execution_count": 95,
   "id": "37658519-0d01-4d58-a04e-533acef15927",
   "metadata": {},
   "outputs": [
    {
     "data": {
      "text/plain": [
       "array(['Los Angeles', 'San Francisco', 'New York'], dtype=object)"
      ]
     },
     "execution_count": 95,
     "metadata": {},
     "output_type": "execute_result"
    }
   ],
   "source": [
    "#replace inapropriate  values 'listing_city' column\n",
    "city_dict={'los angeles':'Los Angeles',\n",
    "           'LA':'Los Angeles',\n",
    "           'San Fran':'San Francisco',\n",
    "           'SF':'San Francisco',\n",
    "           'new york':'New York',\n",
    "           'nyc':'New York',\n",
    "           'NYC':'New York'}\n",
    "df['listing_city']=df['listing_city'].replace(city_dict)\n",
    "\n",
    "# Check unique number of 'listing_city' column  again\n",
    "df['listing_city'].unique()"
   ]
  },
  {
   "cell_type": "code",
   "execution_count": 97,
   "id": "1157274d-f5a2-4c32-978c-45ab6159be01",
   "metadata": {},
   "outputs": [
    {
     "data": {
      "text/plain": [
       "array(['False', 'Yes', 'FALSE', 'n', 'TRUE', 'y', 'No', 'True', '0', '1'],\n",
       "      dtype=object)"
      ]
     },
     "execution_count": 97,
     "metadata": {},
     "output_type": "execute_result"
    }
   ],
   "source": [
    "# Check unique number of 'is_cancelled' column \n",
    "df['is_cancelled'].unique()"
   ]
  },
  {
   "cell_type": "code",
   "execution_count": 99,
   "id": "09e7cebf-cb34-40a6-9b22-feed2b393b15",
   "metadata": {},
   "outputs": [
    {
     "data": {
      "text/plain": [
       "array(['No', 'Yes'], dtype=object)"
      ]
     },
     "execution_count": 99,
     "metadata": {},
     "output_type": "execute_result"
    }
   ],
   "source": [
    "#replace inapropriate  values 'is_cancelled' column\n",
    "is_cancelled_dict={'y':'Yes',\n",
    "                   'TRUE':'Yes',\n",
    "                   'False':'No',\n",
    "                   'True':'Yes',\n",
    "                   '1':'Yes',\n",
    "                   'FALSE':'No',\n",
    "                   '0':'No',\n",
    "                   'n':'No'}\n",
    "df['is_cancelled']=df['is_cancelled'].replace(is_cancelled_dict)\n",
    "\n",
    "# Check unique number of 'is_cancelled' column  again\n",
    "df['is_cancelled'].unique()"
   ]
  },
  {
   "cell_type": "code",
   "execution_count": 101,
   "id": "8b73d4ed-6a7f-4feb-9c9a-8e0bac4438b8",
   "metadata": {},
   "outputs": [
    {
     "data": {
      "text/plain": [
       "0   2023-05-24\n",
       "1   2024-08-19\n",
       "2   2024-03-20\n",
       "3   2024-02-29\n",
       "4   2025-01-26\n",
       "Name: checkin_date, dtype: datetime64[ns]"
      ]
     },
     "execution_count": 101,
     "metadata": {},
     "output_type": "execute_result"
    }
   ],
   "source": [
    "# change'checkin_date' data type \n",
    "df['checkin_date'] = pd.to_datetime(df['checkin_date'], dayfirst=True,format='mixed')\n",
    "\n",
    "# Check 'checkin_date' data \n",
    "df['checkin_date'].head()"
   ]
  },
  {
   "cell_type": "code",
   "execution_count": 103,
   "id": "532d4dd7-8c42-4dc5-b9db-303c01a00875",
   "metadata": {},
   "outputs": [
    {
     "data": {
      "text/plain": [
       "0   2023-12-12\n",
       "1   2024-11-08\n",
       "2   2025-03-03\n",
       "3   2025-03-16\n",
       "4   2025-02-22\n",
       "Name: checkout_date, dtype: datetime64[ns]"
      ]
     },
     "execution_count": 103,
     "metadata": {},
     "output_type": "execute_result"
    }
   ],
   "source": [
    "# change'checkout_date' data type \n",
    "df['checkout_date'] = pd.to_datetime(df['checkout_date'], dayfirst=True,format='mixed')\n",
    "\n",
    "# Check 'checkout_date' data \n",
    "df['checkout_date'].head()"
   ]
  },
  {
   "cell_type": "code",
   "execution_count": 105,
   "id": "c4af1eba-ead4-48db-b672-925ed77ee2c4",
   "metadata": {},
   "outputs": [
    {
     "data": {
      "text/plain": [
       "array(['pending', nan, 'paid', 'PENDING', 'Unpaid', 'Paid'], dtype=object)"
      ]
     },
     "execution_count": 105,
     "metadata": {},
     "output_type": "execute_result"
    }
   ],
   "source": [
    "# Check unique number of 'is_cancelled' column \n",
    "df['payment_status'].unique()"
   ]
  },
  {
   "cell_type": "code",
   "execution_count": 107,
   "id": "9d8679d2-891f-4478-be90-5f9f65cf4419",
   "metadata": {},
   "outputs": [
    {
     "data": {
      "text/plain": [
       "array(['Pending', 'n/a', 'Paid', 'Unpaid'], dtype=object)"
      ]
     },
     "execution_count": 107,
     "metadata": {},
     "output_type": "execute_result"
    }
   ],
   "source": [
    "#  change 'payment_status' value to title  text and fill empty values 'n/a'\n",
    "df['payment_status']=df['payment_status'].str.title().fillna('n/a')\n",
    "\n",
    "# Check unique number of 'payment_status' column again\n",
    "df['payment_status'].unique()"
   ]
  },
  {
   "cell_type": "code",
   "execution_count": 109,
   "id": "8b5889f5-c629-4a31-9ab0-05d67387be18",
   "metadata": {},
   "outputs": [
    {
     "data": {
      "text/plain": [
       "array([ 6.,  1., nan,  4., -1.,  2.,  5.,  3.])"
      ]
     },
     "execution_count": 109,
     "metadata": {},
     "output_type": "execute_result"
    }
   ],
   "source": [
    "# Check unique number of 'review_score' column (if reviev score not avaible - 0)\n",
    "df['review_score'].unique()"
   ]
  },
  {
   "cell_type": "code",
   "execution_count": 111,
   "id": "8f39ed1c-202f-4b04-8b66-f84f5e2dc437",
   "metadata": {},
   "outputs": [],
   "source": [
    "#replace inapropriate  values 'review_score' column\n",
    "review_score_dict={6:5,-1:1}\n",
    "df['review_score']=df['review_score'].replace(review_score_dict).fillna(0)"
   ]
  },
  {
   "cell_type": "code",
   "execution_count": 113,
   "id": "05988278-8023-4974-9056-62170b97f710",
   "metadata": {},
   "outputs": [],
   "source": [
    "# Apply the folowing logic: if 'checkout_date' < 'checkin_date':'checkin_date'=='checkout_date' and 'checkout_date'=='checkin_date'\n",
    "mask_data=df['checkout_date']<df['checkin_date']\n",
    "df.loc[mask_data, 'new_checkin_date'] = df.loc[mask_data, 'checkout_date']\n",
    "df.loc[mask_data, 'checkout_date'] = df.loc[mask_data, 'checkin_date']\n",
    "df.loc[mask_data,'checkin_date']=df.loc[mask_data,'new_checkin_date']\n",
    "df=df.drop(['new_checkin_date'],axis=1)"
   ]
  },
  {
   "cell_type": "code",
   "execution_count": 115,
   "id": "7af53154-57ff-47c3-bf98-97d18e187a6e",
   "metadata": {},
   "outputs": [],
   "source": [
    "# create column 'manual_night' :'checkout_date'-'checkin_date'\n",
    "df['manual_night']=(df['checkout_date']-df['checkin_date']).dt.days"
   ]
  },
  {
   "cell_type": "code",
   "execution_count": 117,
   "id": "c0d01f34-9052-4ab5-a031-868b5afd68d5",
   "metadata": {},
   "outputs": [],
   "source": [
    "#replace \"seven\" value in \"night\" column\n",
    "df['manual_night']= df['nights']\n",
    "mask = df['manual_night'] == 'seven'\n",
    "df.loc[mask, 'manual_night'] = (df.loc[mask, 'checkout_date'] - df.loc[mask, 'checkin_date']).dt.days\n",
    "\n",
    "# replcae Null values in 'nights' columns  to calculation 'checkout_date'-'checkin_date'\n",
    "mask2=df['manual_night'].isna()\n",
    "df.loc[mask2,'manual_night']=(df.loc[mask2,'checkout_date']-df.loc[mask2,'checkin_date']).dt.days\n",
    "\n",
    "# change dtype 'nights'\n",
    "df['manual_night']=df['manual_night'].astype('int')\n",
    "\n",
    "# if 'nights' values<0 replace 'nights' to positive value and change 'checkout_date' to 'checkout_date'+abs_night\n",
    "mask1=df['manual_night']<0\n",
    "abs_night = df.loc[mask1, 'manual_night'].abs()\n",
    "\n",
    "df.loc[mask1, 'checkout_date'] = df.loc[mask1, 'checkout_date'] + pd.to_timedelta(abs_night, unit='d')\n",
    "df.loc[mask1,'manual_night']=abs_night"
   ]
  },
  {
   "cell_type": "code",
   "execution_count": 119,
   "id": "f4eeaa8c-5550-44cd-ab38-76607dca8413",
   "metadata": {},
   "outputs": [],
   "source": [
    "# create column 'manual_price_per_night' and replace in this column 'free' and NaN values to 0\n",
    "df['manual_price_per_night']=df['price_per_night'].copy()\n",
    "\n",
    "mask_tortal_price=df['manual_price_per_night'].astype(str).str.contains('free')\n",
    "df.loc[mask_tortal_price,'manual_price_per_night']=0\n",
    "\n",
    "mask1_total_price=mask1_total_price = df['manual_price_per_night'].isna()\n",
    "\n",
    "# Замінюємо NaN на 0\n",
    "df.loc[mask1_total_price,'manual_price_per_night']=0\n",
    "\n",
    "# change dtype 'manual_price_per_night' to float\n",
    "df['manual_price_per_night']=df['manual_price_per_night'].astype(float)"
   ]
  },
  {
   "cell_type": "code",
   "execution_count": 121,
   "id": "4d9e7ede-c9ea-437e-8f58-66da32a32014",
   "metadata": {},
   "outputs": [],
   "source": [
    "# create column 'manual_total_price' and replace in this column 'error'  values to 0\n",
    "df['manual_total_price']=df['total_price'].copy()\n",
    "\n",
    "mask_total_price=df['manual_total_price'].astype(str).str.contains('error')\n",
    "df.loc[mask_total_price,'manual_total_price']=0\n",
    "\n",
    "# change dtype 'manual_total_price' to float\n",
    "df['manual_total_price']=df['manual_total_price'].astype(float)"
   ]
  },
  {
   "cell_type": "code",
   "execution_count": 123,
   "id": "09e35b4e-2a16-46e2-9f0d-92fe68a58967",
   "metadata": {},
   "outputs": [
    {
     "data": {
      "text/html": [
       "<div>\n",
       "<style scoped>\n",
       "    .dataframe tbody tr th:only-of-type {\n",
       "        vertical-align: middle;\n",
       "    }\n",
       "\n",
       "    .dataframe tbody tr th {\n",
       "        vertical-align: top;\n",
       "    }\n",
       "\n",
       "    .dataframe thead th {\n",
       "        text-align: right;\n",
       "    }\n",
       "</style>\n",
       "<table border=\"1\" class=\"dataframe\">\n",
       "  <thead>\n",
       "    <tr style=\"text-align: right;\">\n",
       "      <th></th>\n",
       "      <th>booking_id</th>\n",
       "      <th>guest_name</th>\n",
       "      <th>email</th>\n",
       "      <th>listing_id</th>\n",
       "      <th>listing_city</th>\n",
       "      <th>checkin_date</th>\n",
       "      <th>checkout_date</th>\n",
       "      <th>nights</th>\n",
       "      <th>price_per_night</th>\n",
       "      <th>total_price</th>\n",
       "      <th>payment_status</th>\n",
       "      <th>review_score</th>\n",
       "      <th>is_cancelled</th>\n",
       "      <th>manual_night</th>\n",
       "      <th>manual_price_per_night</th>\n",
       "      <th>manual_total_price</th>\n",
       "    </tr>\n",
       "  </thead>\n",
       "  <tbody>\n",
       "  </tbody>\n",
       "</table>\n",
       "</div>"
      ],
      "text/plain": [
       "Empty DataFrame\n",
       "Columns: [booking_id, guest_name, email, listing_id, listing_city, checkin_date, checkout_date, nights, price_per_night, total_price, payment_status, review_score, is_cancelled, manual_night, manual_price_per_night, manual_total_price]\n",
       "Index: []"
      ]
     },
     "execution_count": 123,
     "metadata": {},
     "output_type": "execute_result"
    }
   ],
   "source": [
    "# check change apllying\n",
    "df[df['manual_total_price'].astype(str).str.contains('error')]"
   ]
  },
  {
   "cell_type": "code",
   "execution_count": 125,
   "id": "09db1ccc-aee8-4adb-a315-797c45912d43",
   "metadata": {},
   "outputs": [],
   "source": [
    "#  if manual_total_price <0: 'manual_night'*'manual_price_per_night'\n",
    "mask_negetive_total_price=df['manual_total_price']<0\n",
    "df.loc[mask_negetive_total_price,'manual_total_price']=(df.loc[mask_negetive_total_price,'manual_night']\\\n",
    "                                                        *df.loc[mask_negetive_total_price,'manual_price_per_night'])"
   ]
  },
  {
   "cell_type": "code",
   "execution_count": 127,
   "id": "5512a116-3b0b-43c8-b6c2-10e7fd0afcda",
   "metadata": {},
   "outputs": [
    {
     "name": "stderr",
     "output_type": "stream",
     "text": [
      "C:\\Users\\HP\\AppData\\Local\\Temp\\ipykernel_20100\\3709852290.py:8: FutureWarning: The default of observed=False is deprecated and will be changed to True in a future version of pandas. Pass observed=False to retain current behavior or observed=True to adopt the future default and silence this warning.\n",
      "  mean_manual_price_per_night=df.groupby(['listing_city','night'])['manual_price_per_night'].mean()\n"
     ]
    }
   ],
   "source": [
    "# create new column 'night' to segment 'manual_night'. Find mean grouping column ('listing_city','night'). \n",
    "# Finally replace null value in 'manual_price_per_night' \n",
    "\n",
    "bins=[-1,10,20,30,40,50,75,100,200,400,600,800]\n",
    "labels=['0-10','10-20','20-30','30-40','40-50','50-75','75-100','100-200','200-400','400-600','600-800']\n",
    "df['night']=pd.cut(df['manual_night'],bins=bins,labels=labels,right=False)\n",
    "\n",
    "mean_manual_price_per_night=df.groupby(['listing_city','night'])['manual_price_per_night'].mean()\n",
    "\n",
    "mask_price_group = (df['manual_price_per_night'].isna()) & (~df['price_per_night'].astype(str).str.contains('free'))\n",
    "\n",
    "df.loc[mask1_total_price, 'manual_price_per_night'] = df.loc[mask1_total_price, ['listing_city', 'night']].apply(\n",
    "    lambda row: mean_manual_price_per_night.get((row['listing_city'], row['night'])),\n",
    "    axis=1\n",
    ")"
   ]
  },
  {
   "cell_type": "code",
   "execution_count": 129,
   "id": "651a1595-b0c5-4ae8-bc02-95f54aa92e69",
   "metadata": {},
   "outputs": [],
   "source": [
    "mask_night_null=(df['manual_night']==0) & (df['manual_total_price']==0)\n",
    "df.loc[mask_night_null,'manual_total_price']=df.loc[mask_night_null,'manual_price_per_night']\n",
    "mask_total_price_null=df['manual_total_price']==0\n",
    "df.loc[mask_total_price_null,'manual_total_price']=df.loc[mask_total_price_null,'manual_price_per_night']*df.loc[mask_total_price_null,'manual_night']"
   ]
  },
  {
   "cell_type": "code",
   "execution_count": 131,
   "id": "44abe885-ddff-4b27-914d-dcd20638698f",
   "metadata": {},
   "outputs": [
    {
     "data": {
      "text/html": [
       "<div>\n",
       "<style scoped>\n",
       "    .dataframe tbody tr th:only-of-type {\n",
       "        vertical-align: middle;\n",
       "    }\n",
       "\n",
       "    .dataframe tbody tr th {\n",
       "        vertical-align: top;\n",
       "    }\n",
       "\n",
       "    .dataframe thead th {\n",
       "        text-align: right;\n",
       "    }\n",
       "</style>\n",
       "<table border=\"1\" class=\"dataframe\">\n",
       "  <thead>\n",
       "    <tr style=\"text-align: right;\">\n",
       "      <th></th>\n",
       "      <th>booking_id</th>\n",
       "      <th>guest_name</th>\n",
       "      <th>email</th>\n",
       "      <th>listing_id</th>\n",
       "      <th>listing_city</th>\n",
       "      <th>checkin_date</th>\n",
       "      <th>checkout_date</th>\n",
       "      <th>nights</th>\n",
       "      <th>price_per_night</th>\n",
       "      <th>total_price</th>\n",
       "      <th>payment_status</th>\n",
       "      <th>review_score</th>\n",
       "      <th>is_cancelled</th>\n",
       "      <th>manual_night</th>\n",
       "      <th>manual_price_per_night</th>\n",
       "      <th>manual_total_price</th>\n",
       "      <th>night</th>\n",
       "    </tr>\n",
       "  </thead>\n",
       "  <tbody>\n",
       "  </tbody>\n",
       "</table>\n",
       "</div>"
      ],
      "text/plain": [
       "Empty DataFrame\n",
       "Columns: [booking_id, guest_name, email, listing_id, listing_city, checkin_date, checkout_date, nights, price_per_night, total_price, payment_status, review_score, is_cancelled, manual_night, manual_price_per_night, manual_total_price, night]\n",
       "Index: []"
      ]
     },
     "execution_count": 131,
     "metadata": {},
     "output_type": "execute_result"
    }
   ],
   "source": [
    "# Check if there are outliesr in 'manual_price_per_night' column\n",
    "quantile_25=np.quantile(df['manual_price_per_night'],0.25)\n",
    "quantile_75=np.quantile(df['manual_price_per_night'],0.75)\n",
    "iqr=quantile_75-quantile_25\n",
    "lower=quantile_25-1.5*iqr\n",
    "upper=quantile_75+1.5*iqr\n",
    "df[(df['manual_price_per_night']>upper) |( df['manual_price_per_night']<lower)]"
   ]
  },
  {
   "cell_type": "code",
   "execution_count": 133,
   "id": "68550cb8-7c9d-4d42-a7a6-e3eaa2f06585",
   "metadata": {
    "scrolled": true
   },
   "outputs": [
    {
     "data": {
      "text/html": [
       "<div>\n",
       "<style scoped>\n",
       "    .dataframe tbody tr th:only-of-type {\n",
       "        vertical-align: middle;\n",
       "    }\n",
       "\n",
       "    .dataframe tbody tr th {\n",
       "        vertical-align: top;\n",
       "    }\n",
       "\n",
       "    .dataframe thead th {\n",
       "        text-align: right;\n",
       "    }\n",
       "</style>\n",
       "<table border=\"1\" class=\"dataframe\">\n",
       "  <thead>\n",
       "    <tr style=\"text-align: right;\">\n",
       "      <th></th>\n",
       "      <th>booking_id</th>\n",
       "      <th>guest_name</th>\n",
       "      <th>email</th>\n",
       "      <th>listing_id</th>\n",
       "      <th>listing_city</th>\n",
       "      <th>checkin_date</th>\n",
       "      <th>checkout_date</th>\n",
       "      <th>nights</th>\n",
       "      <th>price_per_night</th>\n",
       "      <th>total_price</th>\n",
       "      <th>payment_status</th>\n",
       "      <th>review_score</th>\n",
       "      <th>is_cancelled</th>\n",
       "      <th>manual_night</th>\n",
       "      <th>manual_price_per_night</th>\n",
       "      <th>manual_total_price</th>\n",
       "      <th>night</th>\n",
       "    </tr>\n",
       "  </thead>\n",
       "  <tbody>\n",
       "  </tbody>\n",
       "</table>\n",
       "</div>"
      ],
      "text/plain": [
       "Empty DataFrame\n",
       "Columns: [booking_id, guest_name, email, listing_id, listing_city, checkin_date, checkout_date, nights, price_per_night, total_price, payment_status, review_score, is_cancelled, manual_night, manual_price_per_night, manual_total_price, night]\n",
       "Index: []"
      ]
     },
     "execution_count": 133,
     "metadata": {},
     "output_type": "execute_result"
    }
   ],
   "source": [
    "# Check if there are outliesr in 'manual_total_price' column\n",
    "quantile_25_total_price=np.quantile(df['manual_total_price'],0.25)\n",
    "quantile_75_total_price=np.quantile(df['manual_total_price'],0.75)\n",
    "iqr_total_price=quantile_75_total_price-quantile_25_total_price\n",
    "lower_total_pricee=quantile_25_total_price-1.5*iqr_total_price\n",
    "upper_total_price=quantile_75_total_price+1.5*iqr_total_price\n",
    "df[(df['manual_total_price']>upper_total_price) & (df['manual_total_price']<lower_total_pricee)]"
   ]
  },
  {
   "cell_type": "code",
   "execution_count": 143,
   "id": "ad69680e-05ed-4704-8851-72629132541b",
   "metadata": {},
   "outputs": [],
   "source": [
    "# if 'price_per_night' == 'free' , \"payment_status\" - 'Free'\n",
    "mask_free=df['price_per_night'].astype(str).str.contains('free')\n",
    "df.loc[mask_free,'payment_status']='Free'"
   ]
  },
  {
   "cell_type": "code",
   "execution_count": 145,
   "id": "cc925421-7d54-4a3d-8db5-703a62ff410b",
   "metadata": {},
   "outputs": [
    {
     "data": {
      "text/plain": [
       "array(['Pending', 'n/a', 'Paid', 'Unpaid', 'Free'], dtype=object)"
      ]
     },
     "execution_count": 145,
     "metadata": {},
     "output_type": "execute_result"
    }
   ],
   "source": [
    "# check 'payment_status' unique values\n",
    "df['payment_status'].unique()"
   ]
  },
  {
   "cell_type": "code",
   "execution_count": 147,
   "id": "85ef3c81-1674-4881-8151-94a3a47a5e75",
   "metadata": {},
   "outputs": [],
   "source": [
    "df['nights']=df['manual_night']\n",
    "df['price_per_night']=df['manual_price_per_night']\n",
    "df['total_price']=df['manual_total_price']\n",
    "df=df.drop(['manual_night','manual_price_per_night','manual_total_price','night'],axis=1)"
   ]
  },
  {
   "cell_type": "code",
   "execution_count": 167,
   "id": "facb9b42-4656-425a-9bc2-ecbd46b9e2d1",
   "metadata": {},
   "outputs": [],
   "source": [
    "with pd.ExcelWriter('Clean_data.xlsx') as writer:\n",
    "    df.to_excel(writer, sheet_name='Clean_data', index=False)"
   ]
  }
 ],
 "metadata": {
  "kernelspec": {
   "display_name": "Python 3 (ipykernel)",
   "language": "python",
   "name": "python3"
  },
  "language_info": {
   "codemirror_mode": {
    "name": "ipython",
    "version": 3
   },
   "file_extension": ".py",
   "mimetype": "text/x-python",
   "name": "python",
   "nbconvert_exporter": "python",
   "pygments_lexer": "ipython3",
   "version": "3.12.7"
  }
 },
 "nbformat": 4,
 "nbformat_minor": 5
}
